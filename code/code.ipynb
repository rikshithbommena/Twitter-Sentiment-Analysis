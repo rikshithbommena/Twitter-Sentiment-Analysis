{
 "cells": [
  {
   "cell_type": "markdown",
   "id": "294c6cf5",
   "metadata": {},
   "source": []
  },
  {
   "cell_type": "code",
   "execution_count": 3,
   "id": "9104d3a7",
   "metadata": {},
   "outputs": [],
   "source": [
    "#importing dataset"
   ]
  },
  {
   "cell_type": "code",
   "execution_count": 4,
   "id": "b686f14d",
   "metadata": {},
   "outputs": [
    {
     "ename": "ModuleNotFoundError",
     "evalue": "No module named 'numpy'",
     "output_type": "error",
     "traceback": [
      "\u001b[31m---------------------------------------------------------------------------\u001b[39m",
      "\u001b[31mModuleNotFoundError\u001b[39m                       Traceback (most recent call last)",
      "\u001b[36mCell\u001b[39m\u001b[36m \u001b[39m\u001b[32mIn[4]\u001b[39m\u001b[32m, line 1\u001b[39m\n\u001b[32m----> \u001b[39m\u001b[32m1\u001b[39m \u001b[38;5;28;01mimport\u001b[39;00m\u001b[38;5;250m \u001b[39m\u001b[34;01mnumpy\u001b[39;00m\u001b[38;5;250m \u001b[39m\u001b[38;5;28;01mas\u001b[39;00m\u001b[38;5;250m \u001b[39m\u001b[34;01mnp\u001b[39;00m\n\u001b[32m      2\u001b[39m \u001b[38;5;28;01mimport\u001b[39;00m\u001b[38;5;250m \u001b[39m\u001b[34;01mpandas\u001b[39;00m\u001b[38;5;250m \u001b[39m\u001b[38;5;28;01mas\u001b[39;00m\u001b[38;5;250m \u001b[39m\u001b[34;01mpd\u001b[39;00m\n\u001b[32m      3\u001b[39m \u001b[38;5;28;01mimport\u001b[39;00m\u001b[38;5;250m \u001b[39m\u001b[34;01mmatplotlib\u001b[39;00m\u001b[34;01m.\u001b[39;00m\u001b[34;01mpyplot\u001b[39;00m\u001b[38;5;250m \u001b[39m\u001b[38;5;28;01mas\u001b[39;00m\u001b[38;5;250m \u001b[39m\u001b[34;01mplt\u001b[39;00m\n",
      "\u001b[31mModuleNotFoundError\u001b[39m: No module named 'numpy'"
     ]
    }
   ],
   "source": [
    "import numpy as np\n",
    "import pandas as pd\n",
    "import matplotlib.pyplot as plt\n",
    "import seaborn as sns\n",
    "from sklearn.model_selection import train_test_split\n",
    "from sklearn.preprocessing import StandardScaler, LabelEncoder\n",
    "from sklearn.metrics import precision_score\n",
    "from sklearn.metrics import recall_score\n",
    "from sklearn.metrics import f1_score\n",
    "from sklearn.metrics import accuracy_score,confusion_matrix,classification_report\n",
    "import os\n",
    "from sklearn.linear_model import Lasso\n",
    "from sklearn.neural_network import MLPClassifier"
   ]
  },
  {
   "cell_type": "code",
   "execution_count": null,
   "id": "06ce1133",
   "metadata": {},
   "outputs": [],
   "source": [
    "#uploading dataset"
   ]
  },
  {
   "cell_type": "code",
   "execution_count": null,
   "id": "3453ea40",
   "metadata": {},
   "outputs": [
    {
     "name": "stderr",
     "output_type": "stream",
     "text": [
      "C:\\Users\\riksh\\AppData\\Local\\Temp\\ipykernel_1708\\3194161540.py:2: DtypeWarning: Columns (3,4,5,6,12,14) have mixed types. Specify dtype option on import or set low_memory=False.\n",
      "  df = pd.read_csv(r'C:/Users/riksh/OneDrive/Desktop/1st project/dataset/data.csv')\n"
     ]
    }
   ],
   "source": [
    "import pandas as pd\n",
    "df = pd.read_csv(r'C:/Users/riksh/OneDrive/Desktop/1st project/dataset/data.csv')"
   ]
  },
  {
   "cell_type": "code",
   "execution_count": null,
   "id": "49e4172c",
   "metadata": {
    "scrolled": true
   },
   "outputs": [
    {
     "data": {
      "text/html": [
       "<div>\n",
       "<style scoped>\n",
       "    .dataframe tbody tr th:only-of-type {\n",
       "        vertical-align: middle;\n",
       "    }\n",
       "\n",
       "    .dataframe tbody tr th {\n",
       "        vertical-align: top;\n",
       "    }\n",
       "\n",
       "    .dataframe thead th {\n",
       "        text-align: right;\n",
       "    }\n",
       "</style>\n",
       "<table border=\"1\" class=\"dataframe\">\n",
       "  <thead>\n",
       "    <tr style=\"text-align: right;\">\n",
       "      <th></th>\n",
       "      <th>index</th>\n",
       "      <th>TweetID</th>\n",
       "      <th>Weekday</th>\n",
       "      <th>Hour</th>\n",
       "      <th>Day</th>\n",
       "      <th>Lang</th>\n",
       "      <th>IsReshare</th>\n",
       "      <th>Reach</th>\n",
       "      <th>RetweetCount</th>\n",
       "      <th>Likes</th>\n",
       "      <th>Klout</th>\n",
       "      <th>Sentiment</th>\n",
       "      <th>text</th>\n",
       "      <th>LocationID</th>\n",
       "      <th>UserID</th>\n",
       "    </tr>\n",
       "  </thead>\n",
       "  <tbody>\n",
       "    <tr>\n",
       "      <th>0</th>\n",
       "      <td>0</td>\n",
       "      <td>tw-682712873332805633</td>\n",
       "      <td>Thursday</td>\n",
       "      <td>17</td>\n",
       "      <td>31</td>\n",
       "      <td>en</td>\n",
       "      <td>False</td>\n",
       "      <td>44.0</td>\n",
       "      <td>0.0</td>\n",
       "      <td>0.0</td>\n",
       "      <td>35.0</td>\n",
       "      <td>0.0</td>\n",
       "      <td>We are hiring: Senior Software Engineer - Prot...</td>\n",
       "      <td>3751.0</td>\n",
       "      <td>tw-40932430</td>\n",
       "    </tr>\n",
       "    <tr>\n",
       "      <th>1</th>\n",
       "      <td>1</td>\n",
       "      <td>tw-682713045357998080</td>\n",
       "      <td>Thursday</td>\n",
       "      <td>17</td>\n",
       "      <td>31</td>\n",
       "      <td>en</td>\n",
       "      <td>True</td>\n",
       "      <td>1810.0</td>\n",
       "      <td>5.0</td>\n",
       "      <td>0.0</td>\n",
       "      <td>53.0</td>\n",
       "      <td>2.0</td>\n",
       "      <td>RT @CodeMineStatus: This is true Amazon Web Se...</td>\n",
       "      <td>3989.0</td>\n",
       "      <td>tw-3179389829</td>\n",
       "    </tr>\n",
       "    <tr>\n",
       "      <th>2</th>\n",
       "      <td>2</td>\n",
       "      <td>tw-682713219375476736</td>\n",
       "      <td>Thursday</td>\n",
       "      <td>17</td>\n",
       "      <td>31</td>\n",
       "      <td>en</td>\n",
       "      <td>False</td>\n",
       "      <td>282.0</td>\n",
       "      <td>0.0</td>\n",
       "      <td>0.0</td>\n",
       "      <td>47.0</td>\n",
       "      <td>0.0</td>\n",
       "      <td>Devops Engineer Aws Ansible Cassandra Mysql Ub...</td>\n",
       "      <td>3741.0</td>\n",
       "      <td>tw-4624808414</td>\n",
       "    </tr>\n",
       "    <tr>\n",
       "      <th>3</th>\n",
       "      <td>3</td>\n",
       "      <td>tw-682713436967579648</td>\n",
       "      <td>Thursday</td>\n",
       "      <td>17</td>\n",
       "      <td>31</td>\n",
       "      <td>en</td>\n",
       "      <td>False</td>\n",
       "      <td>2087.0</td>\n",
       "      <td>4.0</td>\n",
       "      <td>0.0</td>\n",
       "      <td>53.0</td>\n",
       "      <td>0.0</td>\n",
       "      <td>Happy New Year to all those AWS instances of o...</td>\n",
       "      <td>3753.0</td>\n",
       "      <td>tw-356447127</td>\n",
       "    </tr>\n",
       "    <tr>\n",
       "      <th>4</th>\n",
       "      <td>4</td>\n",
       "      <td>tw-682714048199311366</td>\n",
       "      <td>Thursday</td>\n",
       "      <td>17</td>\n",
       "      <td>31</td>\n",
       "      <td>en</td>\n",
       "      <td>False</td>\n",
       "      <td>953.0</td>\n",
       "      <td>0.0</td>\n",
       "      <td>0.0</td>\n",
       "      <td>47.0</td>\n",
       "      <td>0.0</td>\n",
       "      <td>Amazon is hiring! #Sr. #International Tax Mana...</td>\n",
       "      <td>3751.0</td>\n",
       "      <td>tw-3172686669</td>\n",
       "    </tr>\n",
       "  </tbody>\n",
       "</table>\n",
       "</div>"
      ],
      "text/plain": [
       "   index                TweetID   Weekday  Hour  Day  Lang  IsReshare   Reach  \\\n",
       "0      0  tw-682712873332805633  Thursday    17   31    en      False    44.0   \n",
       "1      1  tw-682713045357998080  Thursday    17   31    en       True  1810.0   \n",
       "2      2  tw-682713219375476736  Thursday    17   31    en      False   282.0   \n",
       "3      3  tw-682713436967579648  Thursday    17   31    en      False  2087.0   \n",
       "4      4  tw-682714048199311366  Thursday    17   31    en      False   953.0   \n",
       "\n",
       "    RetweetCount   Likes   Klout   Sentiment  \\\n",
       "0            0.0     0.0    35.0         0.0   \n",
       "1            5.0     0.0    53.0         2.0   \n",
       "2            0.0     0.0    47.0         0.0   \n",
       "3            4.0     0.0    53.0         0.0   \n",
       "4            0.0     0.0    47.0         0.0   \n",
       "\n",
       "                                                text   LocationID  \\\n",
       "0  We are hiring: Senior Software Engineer - Prot...       3751.0   \n",
       "1  RT @CodeMineStatus: This is true Amazon Web Se...       3989.0   \n",
       "2  Devops Engineer Aws Ansible Cassandra Mysql Ub...       3741.0   \n",
       "3  Happy New Year to all those AWS instances of o...       3753.0   \n",
       "4  Amazon is hiring! #Sr. #International Tax Mana...       3751.0   \n",
       "\n",
       "          UserID  \n",
       "0    tw-40932430  \n",
       "1  tw-3179389829  \n",
       "2  tw-4624808414  \n",
       "3   tw-356447127  \n",
       "4  tw-3172686669  "
      ]
     },
     "execution_count": 13,
     "metadata": {},
     "output_type": "execute_result"
    }
   ],
   "source": [
    "df.head()\n"
   ]
  },
  {
   "cell_type": "code",
   "execution_count": null,
   "id": "c83b8ed1",
   "metadata": {},
   "outputs": [],
   "source": []
  },
  {
   "cell_type": "code",
   "execution_count": null,
   "id": "96d3016b",
   "metadata": {},
   "outputs": [],
   "source": [
    "#data analysis"
   ]
  },
  {
   "cell_type": "code",
   "execution_count": null,
   "id": "58f0f818",
   "metadata": {
    "scrolled": true
   },
   "outputs": [
    {
     "name": "stdout",
     "output_type": "stream",
     "text": [
      "<class 'pandas.core.frame.DataFrame'>\n",
      "RangeIndex: 206295 entries, 0 to 206294\n",
      "Data columns (total 15 columns):\n",
      " #   Column         Non-Null Count   Dtype  \n",
      "---  ------         --------------   -----  \n",
      " 0   index          206295 non-null  int64  \n",
      " 1   TweetID        206291 non-null  object \n",
      " 2    Weekday       206292 non-null  object \n",
      " 3    Hour          106175 non-null  object \n",
      " 4    Day           106181 non-null  object \n",
      " 5    Lang          106133 non-null  object \n",
      " 6    IsReshare     100000 non-null  object \n",
      " 7    Reach         100000 non-null  float64\n",
      " 8    RetweetCount  100000 non-null  float64\n",
      " 9    Likes         100000 non-null  float64\n",
      " 10   Klout         100000 non-null  float64\n",
      " 11   Sentiment     100000 non-null  float64\n",
      " 12   text          100000 non-null  object \n",
      " 13   LocationID    100000 non-null  float64\n",
      " 14   UserID        100000 non-null  object \n",
      "dtypes: float64(6), int64(1), object(8)\n",
      "memory usage: 23.6+ MB\n"
     ]
    }
   ],
   "source": [
    "df.info()"
   ]
  },
  {
   "cell_type": "code",
   "execution_count": null,
   "id": "4b23d791",
   "metadata": {
    "scrolled": true
   },
   "outputs": [
    {
     "data": {
      "text/html": [
       "<div>\n",
       "<style scoped>\n",
       "    .dataframe tbody tr th:only-of-type {\n",
       "        vertical-align: middle;\n",
       "    }\n",
       "\n",
       "    .dataframe tbody tr th {\n",
       "        vertical-align: top;\n",
       "    }\n",
       "\n",
       "    .dataframe thead th {\n",
       "        text-align: right;\n",
       "    }\n",
       "</style>\n",
       "<table border=\"1\" class=\"dataframe\">\n",
       "  <thead>\n",
       "    <tr style=\"text-align: right;\">\n",
       "      <th></th>\n",
       "      <th>index</th>\n",
       "      <th>Reach</th>\n",
       "      <th>RetweetCount</th>\n",
       "      <th>Likes</th>\n",
       "      <th>Klout</th>\n",
       "      <th>Sentiment</th>\n",
       "      <th>LocationID</th>\n",
       "    </tr>\n",
       "  </thead>\n",
       "  <tbody>\n",
       "    <tr>\n",
       "      <th>count</th>\n",
       "      <td>206295.000000</td>\n",
       "      <td>1.000000e+05</td>\n",
       "      <td>100000.000000</td>\n",
       "      <td>100000.000000</td>\n",
       "      <td>100000.000000</td>\n",
       "      <td>100000.000000</td>\n",
       "      <td>100000.000000</td>\n",
       "    </tr>\n",
       "    <tr>\n",
       "      <th>mean</th>\n",
       "      <td>103147.000000</td>\n",
       "      <td>8.542396e+03</td>\n",
       "      <td>8.052750</td>\n",
       "      <td>0.152770</td>\n",
       "      <td>40.389260</td>\n",
       "      <td>0.380921</td>\n",
       "      <td>2836.163440</td>\n",
       "    </tr>\n",
       "    <tr>\n",
       "      <th>std</th>\n",
       "      <td>59552.381229</td>\n",
       "      <td>8.867027e+04</td>\n",
       "      <td>97.863474</td>\n",
       "      <td>2.583633</td>\n",
       "      <td>13.636513</td>\n",
       "      <td>1.046559</td>\n",
       "      <td>1323.140242</td>\n",
       "    </tr>\n",
       "    <tr>\n",
       "      <th>min</th>\n",
       "      <td>0.000000</td>\n",
       "      <td>0.000000e+00</td>\n",
       "      <td>0.000000</td>\n",
       "      <td>0.000000</td>\n",
       "      <td>0.000000</td>\n",
       "      <td>-6.000000</td>\n",
       "      <td>1.000000</td>\n",
       "    </tr>\n",
       "    <tr>\n",
       "      <th>25%</th>\n",
       "      <td>51573.500000</td>\n",
       "      <td>1.510000e+02</td>\n",
       "      <td>0.000000</td>\n",
       "      <td>0.000000</td>\n",
       "      <td>32.000000</td>\n",
       "      <td>0.000000</td>\n",
       "      <td>1601.000000</td>\n",
       "    </tr>\n",
       "    <tr>\n",
       "      <th>50%</th>\n",
       "      <td>103147.000000</td>\n",
       "      <td>4.485000e+02</td>\n",
       "      <td>0.000000</td>\n",
       "      <td>0.000000</td>\n",
       "      <td>43.000000</td>\n",
       "      <td>0.000000</td>\n",
       "      <td>3738.000000</td>\n",
       "    </tr>\n",
       "    <tr>\n",
       "      <th>75%</th>\n",
       "      <td>154720.500000</td>\n",
       "      <td>1.496000e+03</td>\n",
       "      <td>3.000000</td>\n",
       "      <td>0.000000</td>\n",
       "      <td>49.000000</td>\n",
       "      <td>0.666667</td>\n",
       "      <td>3775.000000</td>\n",
       "    </tr>\n",
       "    <tr>\n",
       "      <th>max</th>\n",
       "      <td>206294.000000</td>\n",
       "      <td>1.034245e+07</td>\n",
       "      <td>26127.000000</td>\n",
       "      <td>133.000000</td>\n",
       "      <td>99.000000</td>\n",
       "      <td>7.333333</td>\n",
       "      <td>6289.000000</td>\n",
       "    </tr>\n",
       "  </tbody>\n",
       "</table>\n",
       "</div>"
      ],
      "text/plain": [
       "               index         Reach   RetweetCount          Likes  \\\n",
       "count  206295.000000  1.000000e+05  100000.000000  100000.000000   \n",
       "mean   103147.000000  8.542396e+03       8.052750       0.152770   \n",
       "std     59552.381229  8.867027e+04      97.863474       2.583633   \n",
       "min         0.000000  0.000000e+00       0.000000       0.000000   \n",
       "25%     51573.500000  1.510000e+02       0.000000       0.000000   \n",
       "50%    103147.000000  4.485000e+02       0.000000       0.000000   \n",
       "75%    154720.500000  1.496000e+03       3.000000       0.000000   \n",
       "max    206294.000000  1.034245e+07   26127.000000     133.000000   \n",
       "\n",
       "               Klout      Sentiment     LocationID  \n",
       "count  100000.000000  100000.000000  100000.000000  \n",
       "mean       40.389260       0.380921    2836.163440  \n",
       "std        13.636513       1.046559    1323.140242  \n",
       "min         0.000000      -6.000000       1.000000  \n",
       "25%        32.000000       0.000000    1601.000000  \n",
       "50%        43.000000       0.000000    3738.000000  \n",
       "75%        49.000000       0.666667    3775.000000  \n",
       "max        99.000000       7.333333    6289.000000  "
      ]
     },
     "execution_count": 15,
     "metadata": {},
     "output_type": "execute_result"
    }
   ],
   "source": [
    "df.describe()"
   ]
  },
  {
   "cell_type": "code",
   "execution_count": null,
   "id": "fca93b83",
   "metadata": {},
   "outputs": [],
   "source": [
    "#Checking NULL values"
   ]
  },
  {
   "cell_type": "code",
   "execution_count": null,
   "id": "e2455fb5",
   "metadata": {
    "scrolled": true
   },
   "outputs": [
    {
     "data": {
      "text/plain": [
       "index                 0\n",
       "TweetID               4\n",
       " Weekday              3\n",
       " Hour            100120\n",
       " Day             100114\n",
       " Lang            100162\n",
       " IsReshare       106295\n",
       " Reach           106295\n",
       " RetweetCount    106295\n",
       " Likes           106295\n",
       " Klout           106295\n",
       " Sentiment       106295\n",
       " text            106295\n",
       " LocationID      106295\n",
       " UserID          106295\n",
       "dtype: int64"
      ]
     },
     "execution_count": 16,
     "metadata": {},
     "output_type": "execute_result"
    }
   ],
   "source": [
    "df.isnull().sum()"
   ]
  },
  {
   "cell_type": "code",
   "execution_count": null,
   "id": "a1539f34",
   "metadata": {},
   "outputs": [],
   "source": [
    "le = LabelEncoder()\n",
    "column = ['Weekday']"
   ]
  },
  {
   "cell_type": "code",
   "execution_count": null,
   "id": "afcb956f",
   "metadata": {},
   "outputs": [],
   "source": [
    "#Data Visulazation"
   ]
  },
  {
   "cell_type": "code",
   "execution_count": null,
   "id": "e1da6b07",
   "metadata": {
    "scrolled": true
   },
   "outputs": [
    {
     "name": "stderr",
     "output_type": "stream",
     "text": [
      "C:\\Users\\riksh\\AppData\\Local\\Temp\\ipykernel_13788\\3940637669.py:2: FutureWarning: The default value of numeric_only in DataFrame.corr is deprecated. In a future version, it will default to False. Select only valid columns or specify the value of numeric_only to silence this warning.\n",
      "  sns.heatmap(df.corr(),annot = True, cmap = 'Blues')\n"
     ]
    },
    {
     "data": {
      "text/plain": [
       "<Axes: >"
      ]
     },
     "execution_count": 18,
     "metadata": {},
     "output_type": "execute_result"
    },
    {
     "data": {
      "image/png": "[encoded data removed]",
      "text/plain": [
       "<Figure size 1000x600 with 2 Axes>"
      ]
     },
     "metadata": {},
     "output_type": "display_data"
    }
   ],
   "source": [
    "plt.figure(figsize=(10,6))\n",
    "sns.heatmap(df.corr(),annot = True, cmap = 'Blues')"
   ]
  },
  {
   "cell_type": "code",
   "execution_count": 7,
   "id": "a0568cbd",
   "metadata": {},
   "outputs": [
    {
     "ename": "NameError",
     "evalue": "name 'df' is not defined",
     "output_type": "error",
     "traceback": [
      "\u001b[31m---------------------------------------------------------------------------\u001b[39m",
      "\u001b[31mNameError\u001b[39m                                 Traceback (most recent call last)",
      "\u001b[36mCell\u001b[39m\u001b[36m \u001b[39m\u001b[32mIn[7]\u001b[39m\u001b[32m, line 1\u001b[39m\n\u001b[32m----> \u001b[39m\u001b[32m1\u001b[39m r = \u001b[43mdf\u001b[49m[\u001b[33m'\u001b[39m\u001b[33mquality\u001b[39m\u001b[33m'\u001b[39m].unique()\n\u001b[32m      2\u001b[39m r\n",
      "\u001b[31mNameError\u001b[39m: name 'df' is not defined"
     ]
    }
   ],
   "source": [
    "r = df['quality'].unique()\n",
    "r\n"
   ]
  },
  {
   "cell_type": "code",
   "execution_count": null,
   "id": "137e8072",
   "metadata": {},
   "outputs": [],
   "source": [
    "v=['Poor','Excellent', 'Good']"
   ]
  },
  {
   "cell_type": "code",
   "execution_count": null,
   "id": "d21730a9",
   "metadata": {},
   "outputs": [
    {
     "ename": "NameError",
     "evalue": "name 'sns' is not defined",
     "output_type": "error",
     "traceback": [
      "\u001b[1;31m---------------------------------------------------------------------------\u001b[0m",
      "\u001b[1;31mNameError\u001b[0m                                 Traceback (most recent call last)",
      "Cell \u001b[1;32mIn[1], line 1\u001b[0m\n\u001b[1;32m----> 1\u001b[0m \u001b[43msns\u001b[49m\u001b[38;5;241m.\u001b[39mset(style\u001b[38;5;241m=\u001b[39m\u001b[38;5;124m\"\u001b[39m\u001b[38;5;124mdarkgrid\u001b[39m\u001b[38;5;124m\"\u001b[39m) \n\u001b[0;32m      2\u001b[0m plt\u001b[38;5;241m.\u001b[39mfigure(figsize\u001b[38;5;241m=\u001b[39m(\u001b[38;5;241m12\u001b[39m, \u001b[38;5;241m6\u001b[39m)) \n\u001b[0;32m      3\u001b[0m ax \u001b[38;5;241m=\u001b[39m sns\u001b[38;5;241m.\u001b[39mcountplot(x\u001b[38;5;241m=\u001b[39mdf[\u001b[38;5;124m'\u001b[39m\u001b[38;5;124mquality\u001b[39m\u001b[38;5;124m'\u001b[39m], data\u001b[38;5;241m=\u001b[39mdf, palette\u001b[38;5;241m=\u001b[39m\u001b[38;5;124m\"\u001b[39m\u001b[38;5;124mSet3\u001b[39m\u001b[38;5;124m\"\u001b[39m)\n",
      "\u001b[1;31mNameError\u001b[0m: name 'sns' is not defined"
     ]
    }
   ],
   "source": [
    "sns.set(style=\"darkgrid\") \n",
    "plt.figure(figsize=(12, 6)) \n",
    "ax = sns.countplot(x=df['quality'], data=df, palette=\"Set3\")\n",
    "plt.title(\"Count Plot\")  \n",
    "plt.xlabel(\"Categories\") \n",
    "plt.ylabel(\"Count\") \n",
    "\n",
    "ax.set_xticklabels(r)\n",
    "\n",
    "for p in ax.patches:\n",
    "    ax.annotate(f'{p.get_height()}', (p.get_x() + p.get_width() / 2., p.get_height()),\n",
    "                ha='center', va='center', fontsize=10, color='black', xytext=(0, 5),\n",
    "                textcoords='offset points')\n",
    "\n",
    "plt.show()  "
   ]
  },
  {
   "cell_type": "code",
   "execution_count": null,
   "id": "164ce9ab",
   "metadata": {},
   "outputs": [],
   "source": [
    "#Declaring independent and dependent variable"
   ]
  },
  {
   "cell_type": "code",
   "execution_count": null,
   "id": "d7102cd5",
   "metadata": {
    "scrolled": true
   },
   "outputs": [
    {
     "ename": "NameError",
     "evalue": "name 'df' is not defined",
     "output_type": "error",
     "traceback": [
      "\u001b[1;31m---------------------------------------------------------------------------\u001b[0m",
      "\u001b[1;31mNameError\u001b[0m                                 Traceback (most recent call last)",
      "Cell \u001b[1;32mIn[2], line 1\u001b[0m\n\u001b[1;32m----> 1\u001b[0m x \u001b[38;5;241m=\u001b[39m \u001b[43mdf\u001b[49m\u001b[38;5;241m.\u001b[39mdrop([\u001b[38;5;124m'\u001b[39m\u001b[38;5;124mquality\u001b[39m\u001b[38;5;124m'\u001b[39m],axis \u001b[38;5;241m=\u001b[39m \u001b[38;5;241m1\u001b[39m)\n\u001b[0;32m      2\u001b[0m x\u001b[38;5;241m.\u001b[39mhead()\n",
      "\u001b[1;31mNameError\u001b[0m: name 'df' is not defined"
     ]
    }
   ],
   "source": [
    "x = df.drop(['quality'],axis = 1)\n",
    "x.head()"
   ]
  },
  {
   "cell_type": "code",
   "execution_count": null,
   "id": "feea18bd",
   "metadata": {
    "scrolled": false
   },
   "outputs": [
    {
     "ename": "SyntaxError",
     "evalue": "invalid syntax (62700871.py, line 1)",
     "output_type": "error",
     "traceback": [
      "\u001b[1;36m  File \u001b[1;32m\"C:\\Users\\riksh\\AppData\\Local\\Temp\\ipykernel_20708\\62700871.py\"\u001b[1;36m, line \u001b[1;32m1\u001b[0m\n\u001b[1;33m    y = df.['quality']\u001b[0m\n\u001b[1;37m           ^\u001b[0m\n\u001b[1;31mSyntaxError\u001b[0m\u001b[1;31m:\u001b[0m invalid syntax\n"
     ]
    }
   ],
   "source": [
    "y = df.['quality']\n",
    "y"
   ]
  },
  {
   "cell_type": "code",
   "execution_count": null,
   "id": "1fd07b0c",
   "metadata": {},
   "outputs": [
    {
     "ename": "NameError",
     "evalue": "name 'x' is not defined",
     "output_type": "error",
     "traceback": [
      "\u001b[1;31m---------------------------------------------------------------------------\u001b[0m",
      "\u001b[1;31mNameError\u001b[0m                                 Traceback (most recent call last)",
      "Cell \u001b[1;32mIn[3], line 3\u001b[0m\n\u001b[0;32m      1\u001b[0m \u001b[38;5;28;01mfrom\u001b[39;00m \u001b[38;5;21;01mimblearn\u001b[39;00m\u001b[38;5;21;01m.\u001b[39;00m\u001b[38;5;21;01mover_sampling\u001b[39;00m \u001b[38;5;28;01mimport\u001b[39;00m SMOTE\n\u001b[0;32m      2\u001b[0m smote \u001b[38;5;241m=\u001b[39m SMOTE(random_state \u001b[38;5;241m=\u001b[39m \u001b[38;5;241m42\u001b[39m)\n\u001b[1;32m----> 3\u001b[0m x,y \u001b[38;5;241m=\u001b[39m smote\u001b[38;5;241m.\u001b[39mfit_resample(\u001b[43mx\u001b[49m,y)\n",
      "\u001b[1;31mNameError\u001b[0m: name 'x' is not defined"
     ]
    }
   ],
   "source": [
    "from imblearn.over_sampling import SMOTE\n",
    "smote = SMOTE(random_state = 42)\n",
    "x,y = smote.fit_resample(x,y)"
   ]
  },
  {
   "cell_type": "code",
   "execution_count": null,
   "id": "7dce8db3",
   "metadata": {},
   "outputs": [
    {
     "data": {
      "image/png": "[encoded data removed]",
      "text/plain": [
       "<Figure size 1200x600 with 1 Axes>"
      ]
     },
     "metadata": {},
     "output_type": "display_data"
    }
   ],
   "source": [
    "sns.set(style=\"darkgrid\") \n",
    "plt.figure(figsize=(12, 6)) \n",
    "ax = sns.countplot(x=y, data=df, palette=\"Set3\")\n",
    "plt.title(\"Count Plot\")  \n",
    "plt.xlabel(\"Categories\") \n",
    "plt.ylabel(\"Count\") \n",
    "\n",
    "ax.set_xticklabels(v)\n",
    "\n",
    "for p in ax.patches:\n",
    "    ax.annotate(f'{p.get_height()}', (p.get_x() + p.get_width() / 2., p.get_height()),\n",
    "                ha='center', va='center', fontsize=10, color='black', xytext=(0, 5),\n",
    "                textcoords='offset points')\n",
    "\n",
    "plt.show()  "
   ]
  },
  {
   "cell_type": "code",
   "execution_count": null,
   "id": "fd348e19",
   "metadata": {
    "scrolled": false
   },
   "outputs": [],
   "source": [
    "x_train, x_test, y_train, y_test = train_test_split(x,y, test_size = 0.20, random_state = 42)"
   ]
  },
  {
   "cell_type": "code",
   "execution_count": null,
   "id": "ee3645d7",
   "metadata": {},
   "outputs": [
    {
     "data": {
      "text/plain": [
       "(1531, 11)"
      ]
     },
     "execution_count": 60,
     "metadata": {},
     "output_type": "execute_result"
    }
   ],
   "source": [
    "x_train.shape"
   ]
  },
  {
   "cell_type": "code",
   "execution_count": null,
   "id": "19e1b038",
   "metadata": {},
   "outputs": [
    {
     "data": {
      "text/plain": [
       "(1531,)"
      ]
     },
     "execution_count": 61,
     "metadata": {},
     "output_type": "execute_result"
    }
   ],
   "source": [
    "y_train.shape"
   ]
  },
  {
   "cell_type": "code",
   "execution_count": null,
   "id": "62557043",
   "metadata": {},
   "outputs": [],
   "source": [
    "#performance evalution"
   ]
  },
  {
   "cell_type": "code",
   "execution_count": null,
   "id": "3569034f",
   "metadata": {},
   "outputs": [],
   "source": [
    "precision = []\n",
    "recall = []\n",
    "fscore = []\n",
    "accuracy = []\n",
    "\n",
    "def performance_metrics(algorithm, predict, testY):\n",
    "    testY = testY.astype('int')\n",
    "    predict = predict.astype('int')\n",
    "    p = precision_score(testY, predict,average='macro') * 100\n",
    "    r = recall_score(testY, predict,average='macro') * 100\n",
    "    f = f1_score(testY, predict,average='macro') * 100\n",
    "    a = accuracy_score(testY,predict)*100 \n",
    "    accuracy.append(a)\n",
    "    precision.append(p)\n",
    "    recall.append(r)\n",
    "    fscore.append(f)\n",
    "    print(algorithm+' Accuracy    : '+str(a))\n",
    "    print(algorithm+' Precision   : '+str(p))\n",
    "    print(algorithm+' Recall      : '+str(r))\n",
    "    print(algorithm+' FSCORE      : '+str(f))\n",
    "    report=classification_report(predict, testY,target_names=v)\n",
    "    print('\\n',algorithm+\" classification report\\n\",report)\n",
    "    conf_matrix = confusion_matrix(testY, predict) \n",
    "    plt.figure(figsize =(5, 5)) \n",
    "    ax = sns.heatmap(conf_matrix, xticklabels = v, yticklabels =v, annot = True, cmap=\"Blues\" ,fmt =\"g\");\n",
    "    ax.set_ylim([0,len(v)])\n",
    "    plt.title(algorithm+\" Confusion matrix\") \n",
    "    plt.ylabel('True class') \n",
    "    plt.xlabel('Predicted class') \n",
    "    plt.show()"
   ]
  },
  {
   "cell_type": "code",
   "execution_count": null,
   "id": "561da9ff",
   "metadata": {},
   "outputs": [],
   "source": [
    "# Lasso Classifier model building"
   ]
  },
  {
   "cell_type": "code",
   "execution_count": null,
   "id": "851bacfb",
   "metadata": {},
   "outputs": [
    {
     "name": "stdout",
     "output_type": "stream",
     "text": [
      "KNeighbors Classifier Accuracy    : 73.62924281984334\n",
      "KNeighbors Classifier Precision   : 73.72276051795566\n",
      "KNeighbors Classifier Recall      : 73.86512860207102\n",
      "KNeighbors Classifier FSCORE      : 72.06577481167696\n",
      "\n",
      " KNeighbors Classifier classification report\n",
      "               precision    recall  f1-score   support\n",
      "\n",
      "        Poor       0.92      0.75      0.83       149\n",
      "   Excellent       0.44      0.74      0.55        77\n",
      "        Good       0.86      0.72      0.78       157\n",
      "\n",
      "    accuracy                           0.74       383\n",
      "   macro avg       0.74      0.74      0.72       383\n",
      "weighted avg       0.80      0.74      0.75       383\n",
      "\n"
     ]
    },
    {
     "data": {
      "image/png": "[encoded data removed]",
      "text/plain": [
       "<Figure size 500x500 with 2 Axes>"
      ]
     },
     "metadata": {},
     "output_type": "display_data"
    }
   ],
   "source": [
    "from sklearn.neighbors import KNeighborsClassifier\n",
    "import joblib\n",
    "lasso_model_path = 'model/knnClassifier.npy'\n",
    "if os.path.exists(lasso_model_path):\n",
    "    knn_classifier = joblib.load(lasso_model_path)\n",
    "else:\n",
    "    knn_classifier = KNeighborsClassifier()  # You can adjust the alpha parameter\n",
    "    knn_classifier.fit(x_train, y_train)\n",
    "\n",
    "    joblib.dump(knn_classifier, lasso_model_path)\n",
    "\n",
    "y_pred_lasso = knn_classifier.predict(x_test)\n",
    "\n",
    "performance_metrics('KNeighbors Classifier', y_pred_lasso, y_test)\n"
   ]
  },
  {
   "cell_type": "code",
   "execution_count": null,
   "id": "0bed2712",
   "metadata": {},
   "outputs": [],
   "source": [
    "# MLP Classifier"
   ]
  },
  {
   "cell_type": "code",
   "execution_count": null,
   "id": "37e204d8",
   "metadata": {},
   "outputs": [
    {
     "name": "stdout",
     "output_type": "stream",
     "text": [
      "ETC Classifier Accuracy    : 91.90600522193212\n",
      "ETC Classifier Precision   : 92.12272824046296\n",
      "ETC Classifier Recall      : 91.99803987261097\n",
      "ETC Classifier FSCORE      : 92.01098856410074\n",
      "\n",
      " ETC Classifier classification report\n",
      "               precision    recall  f1-score   support\n",
      "\n",
      "        Poor       0.98      0.98      0.98       121\n",
      "   Excellent       0.85      0.90      0.88       122\n",
      "        Good       0.93      0.88      0.90       140\n",
      "\n",
      "    accuracy                           0.92       383\n",
      "   macro avg       0.92      0.92      0.92       383\n",
      "weighted avg       0.92      0.92      0.92       383\n",
      "\n"
     ]
    },
    {
     "data": {
      "image/png": "[encoded data removed]",
      "text/plain": [
       "<Figure size 500x500 with 2 Axes>"
      ]
     },
     "metadata": {},
     "output_type": "display_data"
    }
   ],
   "source": [
    "from sklearn.ensemble import ExtraTreesClassifier\n",
    "import joblib\n",
    "mlp_model_path = 'model/ExtraTreeClassfier.npy'\n",
    "if os.path.exists(mlp_model_path):\n",
    "    etc_classifier = joblib.load(mlp_model_path)\n",
    "else:\n",
    "    etc_classifier = ExtraTreesClassifier()  # You can adjust parameters as needed\n",
    "    etc_classifier.fit(x_train, y_train)\n",
    "\n",
    "    joblib.dump(etc_classifier, mlp_model_path)\n",
    "\n",
    "y_pred_mlp = etc_classifier.predict(x_test)\n",
    "\n",
    "performance_metrics('ETC Classifier', y_pred_mlp, y_test)\n"
   ]
  },
  {
   "cell_type": "code",
   "execution_count": null,
   "id": "a5425b81",
   "metadata": {},
   "outputs": [],
   "source": [
    "#Tabular form of Performance Metrics"
   ]
  },
  {
   "cell_type": "code",
   "execution_count": null,
   "id": "8c542cd2",
   "metadata": {},
   "outputs": [
    {
     "data": {
      "text/html": [
       "<div>\n",
       "<style scoped>\n",
       "    .dataframe tbody tr th:only-of-type {\n",
       "        vertical-align: middle;\n",
       "    }\n",
       "\n",
       "    .dataframe tbody tr th {\n",
       "        vertical-align: top;\n",
       "    }\n",
       "\n",
       "    .dataframe thead th {\n",
       "        text-align: right;\n",
       "    }\n",
       "</style>\n",
       "<table border=\"1\" class=\"dataframe\">\n",
       "  <thead>\n",
       "    <tr style=\"text-align: right;\">\n",
       "      <th></th>\n",
       "      <th>Algorithm Name</th>\n",
       "      <th>Precison</th>\n",
       "      <th>Recall</th>\n",
       "      <th>FScore</th>\n",
       "      <th>Accuracy</th>\n",
       "    </tr>\n",
       "  </thead>\n",
       "  <tbody>\n",
       "    <tr>\n",
       "      <th>0</th>\n",
       "      <td>KNN Classifier</td>\n",
       "      <td>73.722761</td>\n",
       "      <td>73.865129</td>\n",
       "      <td>72.065775</td>\n",
       "      <td>73.629243</td>\n",
       "    </tr>\n",
       "    <tr>\n",
       "      <th>1</th>\n",
       "      <td>ExtraTree Classfier</td>\n",
       "      <td>92.122728</td>\n",
       "      <td>91.998040</td>\n",
       "      <td>92.010989</td>\n",
       "      <td>91.906005</td>\n",
       "    </tr>\n",
       "  </tbody>\n",
       "</table>\n",
       "</div>"
      ],
      "text/plain": [
       "        Algorithm Name   Precison     Recall     FScore   Accuracy\n",
       "0       KNN Classifier  73.722761  73.865129  72.065775  73.629243\n",
       "1  ExtraTree Classfier  92.122728  91.998040  92.010989  91.906005"
      ]
     },
     "execution_count": 69,
     "metadata": {},
     "output_type": "execute_result"
    }
   ],
   "source": [
    "#showing all algorithms performance values\n",
    "columns = [\"Algorithm Name\",\"Precison\",\"Recall\",\"FScore\",\"Accuracy\"]\n",
    "values = []\n",
    "algorithm_names = [\"KNN Classifier\", \"ExtraTree Classfier\"]\n",
    "for i in range(len(algorithm_names)):\n",
    "    values.append([algorithm_names[i],precision[i],recall[i],fscore[i],accuracy[i]])\n",
    "    \n",
    "temp = pd.DataFrame(values,columns=columns)\n",
    "temp"
   ]
  },
  {
   "cell_type": "code",
   "execution_count": null,
   "id": "e1256e90",
   "metadata": {},
   "outputs": [],
   "source": [
    "#Uploading testing dataset"
   ]
  },
  {
   "cell_type": "code",
   "execution_count": null,
   "id": "0eb01a91",
   "metadata": {},
   "outputs": [
    {
     "data": {
      "text/html": [
       "<div>\n",
       "<style scoped>\n",
       "    .dataframe tbody tr th:only-of-type {\n",
       "        vertical-align: middle;\n",
       "    }\n",
       "\n",
       "    .dataframe tbody tr th {\n",
       "        vertical-align: top;\n",
       "    }\n",
       "\n",
       "    .dataframe thead th {\n",
       "        text-align: right;\n",
       "    }\n",
       "</style>\n",
       "<table border=\"1\" class=\"dataframe\">\n",
       "  <thead>\n",
       "    <tr style=\"text-align: right;\">\n",
       "      <th></th>\n",
       "      <th>fixed acidity</th>\n",
       "      <th>volatile acidity</th>\n",
       "      <th>citric acid</th>\n",
       "      <th>residual sugar</th>\n",
       "      <th>chlorides</th>\n",
       "      <th>free sulfur dioxide</th>\n",
       "      <th>total sulfur dioxide</th>\n",
       "      <th>density</th>\n",
       "      <th>pH</th>\n",
       "      <th>sulphates</th>\n",
       "      <th>alcohol</th>\n",
       "    </tr>\n",
       "  </thead>\n",
       "  <tbody>\n",
       "    <tr>\n",
       "      <th>0</th>\n",
       "      <td>11.2</td>\n",
       "      <td>0.28</td>\n",
       "      <td>0.56</td>\n",
       "      <td>1.9</td>\n",
       "      <td>0.075</td>\n",
       "      <td>17</td>\n",
       "      <td>60</td>\n",
       "      <td>0.9980</td>\n",
       "      <td>3.16</td>\n",
       "      <td>0.58</td>\n",
       "      <td>9.8</td>\n",
       "    </tr>\n",
       "    <tr>\n",
       "      <th>1</th>\n",
       "      <td>7.3</td>\n",
       "      <td>0.65</td>\n",
       "      <td>0.00</td>\n",
       "      <td>1.2</td>\n",
       "      <td>0.065</td>\n",
       "      <td>15</td>\n",
       "      <td>21</td>\n",
       "      <td>0.9946</td>\n",
       "      <td>3.39</td>\n",
       "      <td>0.47</td>\n",
       "      <td>10.0</td>\n",
       "    </tr>\n",
       "    <tr>\n",
       "      <th>2</th>\n",
       "      <td>7.8</td>\n",
       "      <td>0.58</td>\n",
       "      <td>0.02</td>\n",
       "      <td>2.0</td>\n",
       "      <td>0.073</td>\n",
       "      <td>9</td>\n",
       "      <td>18</td>\n",
       "      <td>0.9968</td>\n",
       "      <td>3.36</td>\n",
       "      <td>0.57</td>\n",
       "      <td>9.5</td>\n",
       "    </tr>\n",
       "    <tr>\n",
       "      <th>3</th>\n",
       "      <td>7.4</td>\n",
       "      <td>0.59</td>\n",
       "      <td>0.08</td>\n",
       "      <td>4.4</td>\n",
       "      <td>0.086</td>\n",
       "      <td>6</td>\n",
       "      <td>29</td>\n",
       "      <td>0.9974</td>\n",
       "      <td>3.38</td>\n",
       "      <td>0.50</td>\n",
       "      <td>9.0</td>\n",
       "    </tr>\n",
       "    <tr>\n",
       "      <th>4</th>\n",
       "      <td>7.9</td>\n",
       "      <td>0.32</td>\n",
       "      <td>0.51</td>\n",
       "      <td>1.8</td>\n",
       "      <td>0.341</td>\n",
       "      <td>17</td>\n",
       "      <td>56</td>\n",
       "      <td>0.9969</td>\n",
       "      <td>3.04</td>\n",
       "      <td>1.08</td>\n",
       "      <td>9.2</td>\n",
       "    </tr>\n",
       "    <tr>\n",
       "      <th>5</th>\n",
       "      <td>8.9</td>\n",
       "      <td>0.22</td>\n",
       "      <td>0.48</td>\n",
       "      <td>1.8</td>\n",
       "      <td>0.077</td>\n",
       "      <td>29</td>\n",
       "      <td>60</td>\n",
       "      <td>0.9968</td>\n",
       "      <td>3.39</td>\n",
       "      <td>0.53</td>\n",
       "      <td>9.4</td>\n",
       "    </tr>\n",
       "    <tr>\n",
       "      <th>6</th>\n",
       "      <td>5.7</td>\n",
       "      <td>1.13</td>\n",
       "      <td>0.09</td>\n",
       "      <td>1.5</td>\n",
       "      <td>0.172</td>\n",
       "      <td>7</td>\n",
       "      <td>19</td>\n",
       "      <td>0.9940</td>\n",
       "      <td>3.50</td>\n",
       "      <td>0.48</td>\n",
       "      <td>9.8</td>\n",
       "    </tr>\n",
       "    <tr>\n",
       "      <th>7</th>\n",
       "      <td>8.8</td>\n",
       "      <td>0.61</td>\n",
       "      <td>0.30</td>\n",
       "      <td>2.8</td>\n",
       "      <td>0.088</td>\n",
       "      <td>17</td>\n",
       "      <td>46</td>\n",
       "      <td>0.9976</td>\n",
       "      <td>3.26</td>\n",
       "      <td>0.51</td>\n",
       "      <td>9.3</td>\n",
       "    </tr>\n",
       "  </tbody>\n",
       "</table>\n",
       "</div>"
      ],
      "text/plain": [
       "   fixed acidity  volatile acidity  citric acid  residual sugar  chlorides  \\\n",
       "0           11.2              0.28         0.56             1.9      0.075   \n",
       "1            7.3              0.65         0.00             1.2      0.065   \n",
       "2            7.8              0.58         0.02             2.0      0.073   \n",
       "3            7.4              0.59         0.08             4.4      0.086   \n",
       "4            7.9              0.32         0.51             1.8      0.341   \n",
       "5            8.9              0.22         0.48             1.8      0.077   \n",
       "6            5.7              1.13         0.09             1.5      0.172   \n",
       "7            8.8              0.61         0.30             2.8      0.088   \n",
       "\n",
       "   free sulfur dioxide  total sulfur dioxide  density    pH  sulphates  \\\n",
       "0                   17                    60   0.9980  3.16       0.58   \n",
       "1                   15                    21   0.9946  3.39       0.47   \n",
       "2                    9                    18   0.9968  3.36       0.57   \n",
       "3                    6                    29   0.9974  3.38       0.50   \n",
       "4                   17                    56   0.9969  3.04       1.08   \n",
       "5                   29                    60   0.9968  3.39       0.53   \n",
       "6                    7                    19   0.9940  3.50       0.48   \n",
       "7                   17                    46   0.9976  3.26       0.51   \n",
       "\n",
       "   alcohol  \n",
       "0      9.8  \n",
       "1     10.0  \n",
       "2      9.5  \n",
       "3      9.0  \n",
       "4      9.2  \n",
       "5      9.4  \n",
       "6      9.8  \n",
       "7      9.3  "
      ]
     },
     "execution_count": 71,
     "metadata": {},
     "output_type": "execute_result"
    }
   ],
   "source": [
    "test=pd.read_csv(\"test.csv\")\n",
    "test"
   ]
  },
  {
   "cell_type": "code",
   "execution_count": null,
   "id": "05c9add9",
   "metadata": {},
   "outputs": [],
   "source": [
    "#Model prediction on test data"
   ]
  },
  {
   "cell_type": "code",
   "execution_count": null,
   "id": "e41fbe3b",
   "metadata": {},
   "outputs": [],
   "source": [
    "prediction = []"
   ]
  },
  {
   "cell_type": "code",
   "execution_count": null,
   "id": "41e2ccb4",
   "metadata": {},
   "outputs": [],
   "source": [
    "predict = etc_classifier.predict(test)\n"
   ]
  },
  {
   "cell_type": "code",
   "execution_count": null,
   "id": "e4ba0fc5",
   "metadata": {},
   "outputs": [
    {
     "name": "stdout",
     "output_type": "stream",
     "text": [
      "fixed acidity           11.200\n",
      "volatile acidity         0.280\n",
      "citric acid              0.560\n",
      "residual sugar           1.900\n",
      "chlorides                0.075\n",
      "free sulfur dioxide     17.000\n",
      "total sulfur dioxide    60.000\n",
      "density                  0.998\n",
      "pH                       3.160\n",
      "sulphates                0.580\n",
      "alcohol                  9.800\n",
      "Name: 0, dtype: float64\n",
      "Model Predicted of Row 0 Test Data is Excellent\n",
      "fixed acidity            7.3000\n",
      "volatile acidity         0.6500\n",
      "citric acid              0.0000\n",
      "residual sugar           1.2000\n",
      "chlorides                0.0650\n",
      "free sulfur dioxide     15.0000\n",
      "total sulfur dioxide    21.0000\n",
      "density                  0.9946\n",
      "pH                       3.3900\n",
      "sulphates                0.4700\n",
      "alcohol                 10.0000\n",
      "Name: 1, dtype: float64\n",
      "Model Predicted of Row 1 Test Data is Good\n",
      "fixed acidity            7.8000\n",
      "volatile acidity         0.5800\n",
      "citric acid              0.0200\n",
      "residual sugar           2.0000\n",
      "chlorides                0.0730\n",
      "free sulfur dioxide      9.0000\n",
      "total sulfur dioxide    18.0000\n",
      "density                  0.9968\n",
      "pH                       3.3600\n",
      "sulphates                0.5700\n",
      "alcohol                  9.5000\n",
      "Name: 2, dtype: float64\n",
      "Model Predicted of Row 2 Test Data is Good\n",
      "fixed acidity            7.4000\n",
      "volatile acidity         0.5900\n",
      "citric acid              0.0800\n",
      "residual sugar           4.4000\n",
      "chlorides                0.0860\n",
      "free sulfur dioxide      6.0000\n",
      "total sulfur dioxide    29.0000\n",
      "density                  0.9974\n",
      "pH                       3.3800\n",
      "sulphates                0.5000\n",
      "alcohol                  9.0000\n",
      "Name: 3, dtype: float64\n",
      "Model Predicted of Row 3 Test Data is Poor\n",
      "fixed acidity            7.9000\n",
      "volatile acidity         0.3200\n",
      "citric acid              0.5100\n",
      "residual sugar           1.8000\n",
      "chlorides                0.3410\n",
      "free sulfur dioxide     17.0000\n",
      "total sulfur dioxide    56.0000\n",
      "density                  0.9969\n",
      "pH                       3.0400\n",
      "sulphates                1.0800\n",
      "alcohol                  9.2000\n",
      "Name: 4, dtype: float64\n",
      "Model Predicted of Row 4 Test Data is Excellent\n",
      "fixed acidity            8.9000\n",
      "volatile acidity         0.2200\n",
      "citric acid              0.4800\n",
      "residual sugar           1.8000\n",
      "chlorides                0.0770\n",
      "free sulfur dioxide     29.0000\n",
      "total sulfur dioxide    60.0000\n",
      "density                  0.9968\n",
      "pH                       3.3900\n",
      "sulphates                0.5300\n",
      "alcohol                  9.4000\n",
      "Name: 5, dtype: float64\n",
      "Model Predicted of Row 5 Test Data is Excellent\n",
      "fixed acidity            5.700\n",
      "volatile acidity         1.130\n",
      "citric acid              0.090\n",
      "residual sugar           1.500\n",
      "chlorides                0.172\n",
      "free sulfur dioxide      7.000\n",
      "total sulfur dioxide    19.000\n",
      "density                  0.994\n",
      "pH                       3.500\n",
      "sulphates                0.480\n",
      "alcohol                  9.800\n",
      "Name: 6, dtype: float64\n",
      "Model Predicted of Row 6 Test Data is Poor\n",
      "fixed acidity            8.8000\n",
      "volatile acidity         0.6100\n",
      "citric acid              0.3000\n",
      "residual sugar           2.8000\n",
      "chlorides                0.0880\n",
      "free sulfur dioxide     17.0000\n",
      "total sulfur dioxide    46.0000\n",
      "density                  0.9976\n",
      "pH                       3.2600\n",
      "sulphates                0.5100\n",
      "alcohol                  9.3000\n",
      "Name: 7, dtype: float64\n",
      "Model Predicted of Row 7 Test Data is Poor\n"
     ]
    }
   ],
   "source": [
    "predict = etc_classifier.predict(test)\n",
    "\n",
    "for i, p in enumerate(predict):\n",
    "    if p == 0:\n",
    "        print(test.iloc[i]) \n",
    "        print(\"Model Predicted of Row {} Test Data is\".format(i),v[0])\n",
    "        prediction.append(v[0])\n",
    "    elif p == 1:\n",
    "        print(test.iloc[i])  \n",
    "        print(\"Model Predicted of Row {} Test Data is\".format(i),v[1])\n",
    "        prediction.append(v[1])\n",
    "    elif p == 2:\n",
    "        print(test.iloc[i])  \n",
    "        print(\"Model Predicted of Row {} Test Data is\".format(i),v[2])\n",
    "        prediction.append(v[2])\n",
    "    "
   ]
  },
  {
   "cell_type": "code",
   "execution_count": null,
   "id": "fdfebbb8",
   "metadata": {},
   "outputs": [
    {
     "ename": "NameError",
     "evalue": "name 'pd' is not defined",
     "output_type": "error",
     "traceback": [
      "\u001b[1;31m---------------------------------------------------------------------------\u001b[0m",
      "\u001b[1;31mNameError\u001b[0m                                 Traceback (most recent call last)",
      "Cell \u001b[1;32mIn[4], line 1\u001b[0m\n\u001b[1;32m----> 1\u001b[0m test[\u001b[38;5;124m'\u001b[39m\u001b[38;5;124mPrediction\u001b[39m\u001b[38;5;124m'\u001b[39m] \u001b[38;5;241m=\u001b[39m \u001b[43mpd\u001b[49m\u001b[38;5;241m.\u001b[39mDataFrame(prediction)\n\u001b[0;32m      2\u001b[0m test\n",
      "\u001b[1;31mNameError\u001b[0m: name 'pd' is not defined"
     ]
    }
   ],
   "source": [
    "test['Prediction'] = pd.DataFrame(prediction)\n",
    "test"
   ]
  },
  {
   "cell_type": "code",
   "execution_count": null,
   "id": "604fd4d8",
   "metadata": {},
   "outputs": [],
   "source": []
  }
 ],
 "metadata": {
  "kernelspec": {
   "display_name": "Python 3",
   "language": "python",
   "name": "python3"
  },
  "language_info": {
   "codemirror_mode": {
    "name": "ipython",
    "version": 3
   },
   "file_extension": ".py",
   "mimetype": "text/x-python",
   "name": "python",
   "nbconvert_exporter": "python",
   "pygments_lexer": "ipython3",
   "version": "3.13.3"
  }
 },
 "nbformat": 4,
 "nbformat_minor": 5
}
